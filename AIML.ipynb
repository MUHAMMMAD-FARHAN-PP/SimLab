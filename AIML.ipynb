{
  "nbformat": 4,
  "nbformat_minor": 0,
  "metadata": {
    "colab": {
      "provenance": [],
      "authorship_tag": "ABX9TyO2mt2u13NujqLGCgcV0Wjm",
      "include_colab_link": true
    },
    "kernelspec": {
      "name": "python3",
      "display_name": "Python 3"
    },
    "language_info": {
      "name": "python"
    }
  },
  "cells": [
    {
      "cell_type": "markdown",
      "metadata": {
        "id": "view-in-github",
        "colab_type": "text"
      },
      "source": [
        "<a href=\"https://colab.research.google.com/github/MUHAMMMAD-FARHAN-PP/SimLab/blob/main/AIML.ipynb\" target=\"_parent\"><img src=\"https://colab.research.google.com/assets/colab-badge.svg\" alt=\"Open In Colab\"/></a>"
      ]
    },
    {
      "cell_type": "code",
      "source": [
        "s = \"durga software solutions\"\n",
        "l = s.split()\n",
        "for x in l:\n",
        "  print(x)\n",
        "\n",
        "print(l)\n",
        "print(type(l))"
      ],
      "metadata": {
        "colab": {
          "base_uri": "https://localhost:8080/"
        },
        "id": "8E2yc_M0voTU",
        "outputId": "5f809d36-cd04-4abe-d7d4-bd050b40f479"
      },
      "execution_count": null,
      "outputs": [
        {
          "output_type": "stream",
          "name": "stdout",
          "text": [
            "durga\n",
            "software\n",
            "solutions\n",
            "['durga', 'software', 'solutions']\n",
            "<class 'list'>\n"
          ]
        }
      ]
    },
    {
      "cell_type": "code",
      "source": [
        "t = ('sunny','bunny','chunny','panny')\n",
        "s = '^'.join(t)\n",
        "s1 = '%'.join(t)\n",
        "print(s)\n",
        "print(s1)"
      ],
      "metadata": {
        "colab": {
          "base_uri": "https://localhost:8080/"
        },
        "id": "lReI9ZnJw0dC",
        "outputId": "d48d779e-2abc-472f-84c1-38d880cb2c65"
      },
      "execution_count": null,
      "outputs": [
        {
          "output_type": "stream",
          "name": "stdout",
          "text": [
            "sunny^bunny^chunny^panny\n",
            "sunny%bunny%chunny%panny\n"
          ]
        }
      ]
    },
    {
      "cell_type": "code",
      "source": [
        "s=(\"roboTICS aNd aI\")\n",
        "a = s.upper()\n",
        "b = s.lower()\n",
        "c = s.swapcase()\n",
        "d = s.title()\n",
        "e = s.capitalize()\n",
        "print(a)\n",
        "print(b)\n",
        "print(c)\n",
        "print(d)\n",
        "print(e)\n"
      ],
      "metadata": {
        "colab": {
          "base_uri": "https://localhost:8080/"
        },
        "id": "tO-h5BDD8zx3",
        "outputId": "fc24feeb-1713-436d-fa50-2eb0ef375889"
      },
      "execution_count": null,
      "outputs": [
        {
          "output_type": "stream",
          "name": "stdout",
          "text": [
            "ROBOTICS AND AI\n",
            "robotics and ai\n",
            "ROBOtics AnD Ai\n",
            "Robotics And Ai\n",
            "Robotics and ai\n"
          ]
        }
      ]
    },
    {
      "cell_type": "code",
      "source": [
        "s=\"Learning python is very easy\"\n",
        "s1=\"\"\n",
        "i=len(s)-1\n",
        "while i>=0:\n",
        "  s1+=s[i]\n",
        "  i-=1\n",
        "print(s1)"
      ],
      "metadata": {
        "colab": {
          "base_uri": "https://localhost:8080/"
        },
        "id": "F_tZkkjDzppL",
        "outputId": "c0bfa12c-0d97-4971-ff00-404b881baa54"
      },
      "execution_count": null,
      "outputs": [
        {
          "output_type": "stream",
          "name": "stdout",
          "text": [
            "ysae yrev si nohtyp gninraeL\n"
          ]
        }
      ]
    },
    {
      "cell_type": "code",
      "source": [
        "s=\"Learning python is very easy\"\n",
        "l = s.split()\n",
        "s1=l[::-1]\n",
        "s2= ' '.join(s1)\n",
        "print(s2)"
      ],
      "metadata": {
        "colab": {
          "base_uri": "https://localhost:8080/"
        },
        "id": "wvdy33xq2RQZ",
        "outputId": "fd67571b-f634-4adc-ccb5-f06185a0a8a4"
      },
      "execution_count": null,
      "outputs": [
        {
          "output_type": "stream",
          "name": "stdout",
          "text": [
            "easy very is python Learning\n"
          ]
        }
      ]
    },
    {
      "cell_type": "code",
      "source": [
        "s = \"kottayam\"\n",
        "a = \"pampaadi\"\n",
        "s1=\"\"\n",
        "i=min(len(s),len(a))\n",
        "for x in range(i):\n",
        "  s1+=s[x]+a[x]\n",
        "print(s1)\n",
        "\n",
        "\n",
        "\n"
      ],
      "metadata": {
        "colab": {
          "base_uri": "https://localhost:8080/"
        },
        "id": "kJtaaJaN5Lvk",
        "outputId": "1e065a85-c4f8-4107-dbf4-d9a6a3b4c52c"
      },
      "execution_count": null,
      "outputs": [
        {
          "output_type": "stream",
          "name": "stdout",
          "text": [
            "kpoatmtpaayaadmi\n"
          ]
        }
      ]
    },
    {
      "cell_type": "code",
      "source": [
        "s = \"AABCEDDDAABBCCEEDDADEB\"\n",
        "a = ''\n",
        "for i in s:\n",
        "  if i not in a:\n",
        "    a+=i\n",
        "print(a)\n"
      ],
      "metadata": {
        "colab": {
          "base_uri": "https://localhost:8080/"
        },
        "id": "0QKsOH6gCPGf",
        "outputId": "31064b80-d230-4ffd-faf8-bd2b891cdb30"
      },
      "execution_count": null,
      "outputs": [
        {
          "output_type": "stream",
          "name": "stdout",
          "text": [
            "ABCED\n"
          ]
        }
      ]
    },
    {
      "cell_type": "code",
      "source": [
        "s = \"AABCEDDDAABBCCEEDDADEB\"\n",
        "l=list(s)\n",
        "\n",
        "print(l)\n",
        "print(type(l))\n"
      ],
      "metadata": {
        "colab": {
          "base_uri": "https://localhost:8080/"
        },
        "id": "YXJ5VPbiD3lU",
        "outputId": "5a63a968-921f-4011-db27-1fe833823d30"
      },
      "execution_count": null,
      "outputs": [
        {
          "output_type": "stream",
          "name": "stdout",
          "text": [
            "['A', 'A', 'B', 'C', 'E', 'D', 'D', 'D', 'A', 'A', 'B', 'B', 'C', 'C', 'E', 'E', 'D', 'D', 'A', 'D', 'E', 'B']\n",
            "<class 'list'>\n"
          ]
        }
      ]
    },
    {
      "cell_type": "code",
      "source": [
        "s={1,2,3,4,5,6,7,8}\n",
        "l=list(s)\n",
        "print(l)\n",
        "print(type(l))"
      ],
      "metadata": {
        "colab": {
          "base_uri": "https://localhost:8080/"
        },
        "id": "gH0BvFUrFgsa",
        "outputId": "a73d3e3d-4c05-4345-aaf7-bacbd33572eb"
      },
      "execution_count": null,
      "outputs": [
        {
          "output_type": "stream",
          "name": "stdout",
          "text": [
            "[1, 2, 3, 4, 5, 6, 7, 8]\n",
            "<class 'list'>\n"
          ]
        }
      ]
    },
    {
      "cell_type": "code",
      "source": [
        "t=(1,2,3,4,5,6)\n",
        "l=list(t)\n",
        "print(l)\n",
        "print(type(l))"
      ],
      "metadata": {
        "colab": {
          "base_uri": "https://localhost:8080/"
        },
        "id": "ZW100I0JFu8G",
        "outputId": "d0f26592-cdb6-46b3-972d-24ec8489028a"
      },
      "execution_count": null,
      "outputs": [
        {
          "output_type": "stream",
          "name": "stdout",
          "text": [
            "[1, 2, 3, 4, 5, 6]\n",
            "<class 'list'>\n"
          ]
        }
      ]
    },
    {
      "cell_type": "code",
      "source": [
        "list = []\n",
        "list.append(\"A\")\n",
        "list.append(\"B\")\n",
        "list.append(\"C\")\n",
        "print(list)"
      ],
      "metadata": {
        "colab": {
          "base_uri": "https://localhost:8080/"
        },
        "id": "uB-Jt00BJB7v",
        "outputId": "7364b800-1bd5-4b87-e600-26a48d12c67b"
      },
      "execution_count": null,
      "outputs": [
        {
          "output_type": "stream",
          "name": "stdout",
          "text": [
            "['A', 'B', 'C']\n"
          ]
        }
      ]
    },
    {
      "cell_type": "code",
      "source": [
        "list = []\n",
        "for i in range(0,101,1):\n",
        "  if i%10==0:\n",
        "    list.append(i)\n",
        "print(list)"
      ],
      "metadata": {
        "colab": {
          "base_uri": "https://localhost:8080/"
        },
        "id": "nDdb7LNcJCCv",
        "outputId": "8980a03f-b90d-4634-c4f5-83eb4e9d96e2"
      },
      "execution_count": null,
      "outputs": [
        {
          "output_type": "stream",
          "name": "stdout",
          "text": [
            "[0, 10, 20, 30, 40, 50, 60, 70, 80, 90, 100]\n"
          ]
        }
      ]
    },
    {
      "cell_type": "code",
      "source": [
        "n = [1,2,3,4,5]\n",
        "n.insert(1,888)\n",
        "n.insert(10,777)\n",
        "n.insert(-10,999)\n",
        "print(n)"
      ],
      "metadata": {
        "colab": {
          "base_uri": "https://localhost:8080/"
        },
        "id": "Ty3o0xWfJCGO",
        "outputId": "b2aadf15-dd15-45bc-e188-480137cc1e86"
      },
      "execution_count": null,
      "outputs": [
        {
          "output_type": "stream",
          "name": "stdout",
          "text": [
            "[999, 1, 888, 2, 3, 4, 5, 777]\n"
          ]
        }
      ]
    },
    {
      "cell_type": "code",
      "source": [
        "n = [10,20,10,30,10]\n",
        "n.remove(10)\n",
        "print(n)"
      ],
      "metadata": {
        "colab": {
          "base_uri": "https://localhost:8080/"
        },
        "id": "4SIjTyqpJCJl",
        "outputId": "181249a5-3be8-41d0-f0cf-9c50e345a334"
      },
      "execution_count": null,
      "outputs": [
        {
          "output_type": "stream",
          "name": "stdout",
          "text": [
            "[20, 10, 30, 10]\n"
          ]
        }
      ]
    },
    {
      "cell_type": "code",
      "source": [
        "n = [10,20,10,30,10,20,50,80]\n",
        "n.remove(10)\n",
        "n.remove(10)\n",
        "n.pop(3)\n",
        "print(n)"
      ],
      "metadata": {
        "colab": {
          "base_uri": "https://localhost:8080/"
        },
        "id": "Rddlt-37LJsk",
        "outputId": "f8f7805d-e1fd-41a2-b9a7-685d350c71c5"
      },
      "execution_count": null,
      "outputs": [
        {
          "output_type": "stream",
          "name": "stdout",
          "text": [
            "[20, 30, 10, 50, 80]\n"
          ]
        }
      ]
    },
    {
      "cell_type": "code",
      "source": [
        "n = [10,20,30,40,50,60,70,80]\n",
        "print(n.pop())\n",
        "print(n.pop())\n",
        "print(n.pop(1))\n",
        "print(n.pop(3))\n",
        "print(n.pop(0))\n",
        "print(n)"
      ],
      "metadata": {
        "colab": {
          "base_uri": "https://localhost:8080/"
        },
        "id": "WHp8CGWsLRzw",
        "outputId": "ed0112eb-2ef8-4665-f8e6-fb754c967bc4"
      },
      "execution_count": null,
      "outputs": [
        {
          "output_type": "stream",
          "name": "stdout",
          "text": [
            "80\n",
            "70\n",
            "20\n",
            "50\n",
            "10\n",
            "[30, 40, 60]\n"
          ]
        }
      ]
    },
    {
      "cell_type": "code",
      "source": [],
      "metadata": {
        "id": "fREIKj2vLqkG"
      },
      "execution_count": null,
      "outputs": []
    }
  ]
}